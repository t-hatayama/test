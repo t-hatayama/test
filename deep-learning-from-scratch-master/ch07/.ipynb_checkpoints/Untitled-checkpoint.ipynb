{
 "cells": [
  {
   "cell_type": "code",
   "execution_count": 1,
   "metadata": {
    "collapsed": true
   },
   "outputs": [],
   "source": [
    "class SGD:\n",
    "    def __init__(self, lr=0.01):\n",
    "        self.lr = lr\n",
    "        \n",
    "    def update(self, params, grads):\n",
    "        for key in params.keys():\n",
    "            params[key] -= self.lr * grads[key]"
   ]
  },
  {
   "cell_type": "code",
   "execution_count": 3,
   "metadata": {},
   "outputs": [],
   "source": [
    "class Momentum:\n",
    "    def __init__(self, lr=0.01, momentum=0.9):\n",
    "        self.lr = lr\n",
    "        self.momentum = momentum\n",
    "        self.v = None\n",
    "        \n",
    "    def update(self, params, grads):\n",
    "        if self.v is None:\n",
    "            self.v= {}\n",
    "            for key, val in params.items():\n",
    "                self.v[key] = np.zeros_like(val)\n",
    "                \n",
    "        for key in params.keys():\n",
    "            self.v[key] = self.momentum*self.v[key] - self.lr*grads[key]\n",
    "            prams[key] += self.v[key]"
   ]
  },
  {
   "cell_type": "code",
   "execution_count": 4,
   "metadata": {
    "collapsed": true
   },
   "outputs": [],
   "source": [
    "class AdaGrad:\n",
    "    def __init__(self, lr=0.01):\n",
    "        self.lr = lr\n",
    "        self.h = None\n",
    "        \n",
    "    def update(self, params, grads):\n",
    "        if self.h is None:\n",
    "            self.h ={}\n",
    "            for key, val in params.items():\n",
    "                self.h[key] = np.zeros_like(val)\n",
    "                \n",
    "        for key in params.keys():\n",
    "            self.h[key] += grads[key] * grads[key]\n",
    "            params[key] -= self.lr * grads[key] / (np.sqrt(self.h[key]) + 1e-7)"
   ]
  },
  {
   "cell_type": "code",
   "execution_count": 12,
   "metadata": {},
   "outputs": [],
   "source": [
    "import numpy as np\n",
    "import matplotlib.pyplot as plt\n",
    "\n",
    "def sigmoid(x):\n",
    "    return 1 / (1 + np.exp(-x))\n",
    "\n",
    "x = np.random.randn(1000, 100)\n",
    "\n",
    "node_num = 100\n",
    "hidden_layer_size = 5\n",
    "activations ={}\n",
    "\n",
    "for i in range(hidden_layer_size):\n",
    "    if i != 0:\n",
    "        x = activations[i-1]\n",
    "        \n",
    "#     w = np.random.randn(node_num, node_num) * 1\n",
    "#     w = np.random.randn(node_num, node_num) * 0.01\n",
    "    w = np.random.randn(node_num, node_num) / (np.sqrt(node_num))\n",
    "    \n",
    "    z=np.dot(x, w)\n",
    "    a = np.tanh(z)\n",
    "    activations[i] = a"
   ]
  },
  {
   "cell_type": "code",
   "execution_count": 13,
   "metadata": {},
   "outputs": [
    {
     "data": {
      "image/png": "[encoded data removed]",
      "text/plain": [
       "<matplotlib.figure.Figure at 0x115578e10>"
      ]
     },
     "metadata": {},
     "output_type": "display_data"
    }
   ],
   "source": [
    "for i, a in activations.items():\n",
    "    plt.subplot(1, len(activations), i+1)\n",
    "    plt.title(str(i+1) + \"-layer\")\n",
    "    plt.hist(a.flatten(), 30, range=(0,1))\n",
    "plt.show()"
   ]
  },
  {
   "cell_type": "code",
   "execution_count": 14,
   "metadata": {
    "collapsed": true
   },
   "outputs": [],
   "source": [
    "class Dropout:\n",
    "    def __init__(self, dropout_ratio=0.5):\n",
    "        self.dropout_ratio = dropout_retio\n",
    "        self.mask = None\n",
    "        \n",
    "    def forward(self, x, train_flg=True):\n",
    "        if train_flg:\n",
    "            self.mask = np.random.rand(*x.shape) > self.dropout_ratio\n",
    "            return x * self.mask\n",
    "        else:\n",
    "            return x * (1.0 - self.dropout_ratio)\n",
    "        \n",
    "    def backward(self, dout):\n",
    "        return dout * self.mask"
   ]
  },
  {
   "cell_type": "code",
   "execution_count": 15,
   "metadata": {},
   "outputs": [
    {
     "ename": "NameError",
     "evalue": "name 'load_mnist' is not defined",
     "output_type": "error",
     "traceback": [
      "\u001b[0;31m---------------------------------------------------------------------------\u001b[0m",
      "\u001b[0;31mNameError\u001b[0m                                 Traceback (most recent call last)",
      "\u001b[0;32m<ipython-input-15-c8ad76ba5eee>\u001b[0m in \u001b[0;36m<module>\u001b[0;34m()\u001b[0m\n\u001b[0;32m----> 1\u001b[0;31m \u001b[0;34m(\u001b[0m\u001b[0mx_train\u001b[0m\u001b[0;34m,\u001b[0m \u001b[0mt_train\u001b[0m\u001b[0;34m)\u001b[0m \u001b[0;34m,\u001b[0m \u001b[0;34m(\u001b[0m\u001b[0mx_test\u001b[0m\u001b[0;34m,\u001b[0m \u001b[0mt_test\u001b[0m\u001b[0;34m)\u001b[0m \u001b[0;34m=\u001b[0m \u001b[0mload_mnist\u001b[0m\u001b[0;34m(\u001b[0m\u001b[0;34m)\u001b[0m\u001b[0;34m\u001b[0m\u001b[0m\n\u001b[0m\u001b[1;32m      2\u001b[0m \u001b[0;34m\u001b[0m\u001b[0m\n\u001b[1;32m      3\u001b[0m \u001b[0mx_train\u001b[0m\u001b[0;34m,\u001b[0m \u001b[0mt_train\u001b[0m \u001b[0;34m=\u001b[0m \u001b[0mshuffle_dataset\u001b[0m\u001b[0;34m(\u001b[0m\u001b[0mx_train\u001b[0m\u001b[0;34m,\u001b[0m \u001b[0mt_train\u001b[0m\u001b[0;34m)\u001b[0m\u001b[0;34m\u001b[0m\u001b[0m\n\u001b[1;32m      4\u001b[0m \u001b[0;34m\u001b[0m\u001b[0m\n\u001b[1;32m      5\u001b[0m \u001b[0mvalidation_rate\u001b[0m \u001b[0;34m=\u001b[0m \u001b[0;36m0.20\u001b[0m\u001b[0;34m\u001b[0m\u001b[0m\n",
      "\u001b[0;31mNameError\u001b[0m: name 'load_mnist' is not defined"
     ]
    }
   ],
   "source": [
    "(x_train, t_train) , (x_test, t_test) = load_mnist()\n",
    "\n",
    "x_train, t_train = shuffle_dataset(x_train, t_train)\n",
    "\n",
    "validation_rate = 0.20\n",
    "validation_num = int(x_train.shape[0] * validation_rate)\n",
    "\n",
    "x_val = x_train[:validation_num]\n",
    "t_val = t_train[:validation_num]\n",
    "x_train = x_train[validation_num:]\n",
    "t_train = t_train[validation_num:]"
   ]
  },
  {
   "cell_type": "code",
   "execution_count": 16,
   "metadata": {},
   "outputs": [
    {
     "data": {
      "text/plain": [
       "(10, 1, 28, 28)"
      ]
     },
     "execution_count": 16,
     "metadata": {},
     "output_type": "execute_result"
    }
   ],
   "source": [
    "x = np.random.rand(10, 1, 28, 28)\n",
    "x.shape"
   ]
  },
  {
   "cell_type": "code",
   "execution_count": 17,
   "metadata": {},
   "outputs": [
    {
     "data": {
      "text/plain": [
       "(1, 28, 28)"
      ]
     },
     "execution_count": 17,
     "metadata": {},
     "output_type": "execute_result"
    }
   ],
   "source": [
    "x[0].shape"
   ]
  },
  {
   "cell_type": "code",
   "execution_count": 18,
   "metadata": {},
   "outputs": [
    {
     "data": {
      "text/plain": [
       "(1, 28, 28)"
      ]
     },
     "execution_count": 18,
     "metadata": {},
     "output_type": "execute_result"
    }
   ],
   "source": [
    "x[1].shape"
   ]
  },
  {
   "cell_type": "code",
   "execution_count": 19,
   "metadata": {},
   "outputs": [
    {
     "data": {
      "text/plain": [
       "array([[[ 0.33370773,  0.76756609,  0.33969417,  0.23436595,  0.78006658,\n",
       "          0.99813066,  0.67449314,  0.37860195,  0.79954408,  0.68275698,\n",
       "          0.1455472 ,  0.44414407,  0.79977353,  0.24531678,  0.59496693,\n",
       "          0.30173256,  0.98067738,  0.74756121,  0.67180914,  0.40791656,\n",
       "          0.60255732,  0.01082172,  0.70029415,  0.60546074,  0.4798865 ,\n",
       "          0.73659257,  0.36921871,  0.54398609],\n",
       "        [ 0.43118964,  0.9481953 ,  0.7746914 ,  0.43460881,  0.07215305,\n",
       "          0.92588695,  0.9684412 ,  0.36151926,  0.10414962,  0.30018214,\n",
       "          0.05888476,  0.27867765,  0.03408596,  0.27669849,  0.15322384,\n",
       "          0.5660222 ,  0.62019472,  0.08938537,  0.84896275,  0.24433612,\n",
       "          0.89402677,  0.61384076,  0.20643407,  0.27745094,  0.92683674,\n",
       "          0.94803578,  0.10099133,  0.80654333],\n",
       "        [ 0.49605719,  0.37841666,  0.41795542,  0.93110163,  0.97264918,\n",
       "          0.8928125 ,  0.87242117,  0.16970917,  0.49695602,  0.06180628,\n",
       "          0.86661885,  0.09143967,  0.71235041,  0.25291204,  0.83642089,\n",
       "          0.17028783,  0.52926025,  0.6134753 ,  0.91793895,  0.9183791 ,\n",
       "          0.84412453,  0.18522284,  0.01432955,  0.53063721,  0.66137154,\n",
       "          0.94461192,  0.55969745,  0.18498088],\n",
       "        [ 0.15365506,  0.83193317,  0.82761065,  0.32635649,  0.70987923,\n",
       "          0.49621277,  0.15893035,  0.26204518,  0.90628318,  0.60746522,\n",
       "          0.77484207,  0.0487634 ,  0.1239768 ,  0.59505762,  0.56406713,\n",
       "          0.01533963,  0.37738882,  0.58096212,  0.96789767,  0.80770706,\n",
       "          0.11142606,  0.59973194,  0.90407825,  0.58787632,  0.44662224,\n",
       "          0.11944793,  0.79541207,  0.04870279],\n",
       "        [ 0.12194072,  0.8544865 ,  0.23981798,  0.26312416,  0.58481706,\n",
       "          0.84222726,  0.79462066,  0.10838427,  0.06021471,  0.95639373,\n",
       "          0.64871201,  0.00825909,  0.23936228,  0.71054029,  0.35571898,\n",
       "          0.55200352,  0.26405011,  0.27227545,  0.14193433,  0.75628438,\n",
       "          0.79617095,  0.88564696,  0.09870238,  0.32824641,  0.046079  ,\n",
       "          0.60183326,  0.24804339,  0.48187127],\n",
       "        [ 0.01468941,  0.03932896,  0.80832298,  0.07817624,  0.90901726,\n",
       "          0.76176832,  0.15363027,  0.38811238,  0.27098085,  0.81881502,\n",
       "          0.26444473,  0.48870624,  0.16671713,  0.13780462,  0.44321664,\n",
       "          0.96077411,  0.17126468,  0.30619341,  0.50922411,  0.99512781,\n",
       "          0.07585379,  0.44599556,  0.32121373,  0.97954327,  0.84076378,\n",
       "          0.78627599,  0.167461  ,  0.60845042],\n",
       "        [ 0.77772617,  0.53778107,  0.97438384,  0.73656005,  0.36508844,\n",
       "          0.48227495,  0.75781367,  0.22759918,  0.33164943,  0.02216221,\n",
       "          0.42568287,  0.67579757,  0.09411441,  0.28706545,  0.99923096,\n",
       "          0.1893089 ,  0.70306932,  0.35930406,  0.69735716,  0.91182808,\n",
       "          0.50625718,  0.91724243,  0.17856452,  0.40422622,  0.2059692 ,\n",
       "          0.34231917,  0.03124998,  0.80820435],\n",
       "        [ 0.41562205,  0.62238212,  0.66856575,  0.17309511,  0.8090547 ,\n",
       "          0.7492165 ,  0.28840748,  0.09887886,  0.27907698,  0.94628752,\n",
       "          0.4817883 ,  0.09712113,  0.76796052,  0.88035986,  0.54225803,\n",
       "          0.61894576,  0.73800209,  0.63309404,  0.32511468,  0.04485075,\n",
       "          0.71064513,  0.56501187,  0.07876953,  0.50322342,  0.34736351,\n",
       "          0.77368496,  0.3043366 ,  0.68819179],\n",
       "        [ 0.95665487,  0.77119789,  0.56569737,  0.32326016,  0.06323378,\n",
       "          0.00829981,  0.52431155,  0.3393427 ,  0.95191631,  0.23384426,\n",
       "          0.4545093 ,  0.37408303,  0.3228908 ,  0.50746933,  0.00831301,\n",
       "          0.40830755,  0.08814943,  0.51925762,  0.66818813,  0.48552023,\n",
       "          0.90487992,  0.64902293,  0.3284294 ,  0.88107626,  0.12288582,\n",
       "          0.34598158,  0.31739006,  0.55068207],\n",
       "        [ 0.77101492,  0.51138425,  0.66143864,  0.87942801,  0.61640806,\n",
       "          0.68475808,  0.10724028,  0.28268851,  0.18510482,  0.10528325,\n",
       "          0.9643827 ,  0.70397574,  0.24497008,  0.01948395,  0.9076906 ,\n",
       "          0.53310258,  0.16749799,  0.69864676,  0.0994438 ,  0.21018921,\n",
       "          0.45145479,  0.06040588,  0.93125647,  0.82096093,  0.53129741,\n",
       "          0.62553587,  0.09047651,  0.14911009],\n",
       "        [ 0.83281301,  0.62529148,  0.1294425 ,  0.65065595,  0.25326542,\n",
       "          0.36583129,  0.46822647,  0.04009567,  0.8163647 ,  0.74330072,\n",
       "          0.23381714,  0.20815072,  0.27157955,  0.15835527,  0.50051165,\n",
       "          0.65294363,  0.41759008,  0.69921346,  0.34175708,  0.282973  ,\n",
       "          0.55468882,  0.20699683,  0.51919751,  0.51202359,  0.75023466,\n",
       "          0.09502746,  0.76041086,  0.98771018],\n",
       "        [ 0.76469161,  0.99260077,  0.80747814,  0.88672744,  0.40018982,\n",
       "          0.81309769,  0.62274749,  0.48854913,  0.22630236,  0.13582825,\n",
       "          0.30738682,  0.73146714,  0.10639895,  0.43188388,  0.67539633,\n",
       "          0.84863194,  0.57015988,  0.93579074,  0.96842314,  0.77943098,\n",
       "          0.79786237,  0.50248329,  0.80124104,  0.06529256,  0.41230747,\n",
       "          0.71442742,  0.44392417,  0.58660541],\n",
       "        [ 0.20137735,  0.74007702,  0.94102579,  0.33468897,  0.95753243,\n",
       "          0.96397339,  0.32937401,  0.280766  ,  0.7362088 ,  0.66709858,\n",
       "          0.17635485,  0.26110343,  0.27222023,  0.13758612,  0.01781693,\n",
       "          0.48313009,  0.76405037,  0.57162664,  0.78798446,  0.83775065,\n",
       "          0.19153481,  0.9009507 ,  0.49100715,  0.9452872 ,  0.82859894,\n",
       "          0.56390744,  0.41224795,  0.9806607 ],\n",
       "        [ 0.35766528,  0.72494476,  0.30325004,  0.01379943,  0.20758906,\n",
       "          0.86012364,  0.10296278,  0.34444922,  0.64607225,  0.76353451,\n",
       "          0.70392228,  0.13137436,  0.74647404,  0.04997175,  0.21886482,\n",
       "          0.76166384,  0.44495191,  0.33936862,  0.27153563,  0.72233674,\n",
       "          0.0827033 ,  0.05527391,  0.26012544,  0.86400628,  0.60482561,\n",
       "          0.45727598,  0.39992539,  0.36398242],\n",
       "        [ 0.74005626,  0.67737009,  0.5602357 ,  0.24050209,  0.23853859,\n",
       "          0.81165143,  0.9617289 ,  0.0026772 ,  0.66442972,  0.02274051,\n",
       "          0.75567523,  0.56967977,  0.69911978,  0.30136375,  0.2687502 ,\n",
       "          0.30343343,  0.51553744,  0.30443479,  0.62680632,  0.11683473,\n",
       "          0.86755202,  0.77686823,  0.78653702,  0.79205031,  0.96563046,\n",
       "          0.0599693 ,  0.16932385,  0.38875641],\n",
       "        [ 0.09448821,  0.20912204,  0.84278806,  0.9620945 ,  0.32276582,\n",
       "          0.55619306,  0.51230634,  0.47986375,  0.46801234,  0.48707122,\n",
       "          0.46483856,  0.56559807,  0.9092058 ,  0.58812922,  0.55774687,\n",
       "          0.2546505 ,  0.87441863,  0.26370588,  0.53505499,  0.31632415,\n",
       "          0.16668752,  0.83377377,  0.96289822,  0.8215008 ,  0.63397526,\n",
       "          0.79268645,  0.27994991,  0.65724722],\n",
       "        [ 0.2856064 ,  0.76874301,  0.65719733,  0.65355545,  0.70123392,\n",
       "          0.24618143,  0.90030954,  0.56972086,  0.12219223,  0.02092444,\n",
       "          0.11116015,  0.85668972,  0.62698003,  0.32503504,  0.90274776,\n",
       "          0.03725695,  0.0373204 ,  0.64485467,  0.29185543,  0.93045274,\n",
       "          0.54454402,  0.01924348,  0.34204704,  0.20597129,  0.78042789,\n",
       "          0.39303736,  0.14205074,  0.05701472],\n",
       "        [ 0.9367151 ,  0.12103071,  0.20080918,  0.29999932,  0.86339192,\n",
       "          0.07123928,  0.64454376,  0.7319752 ,  0.44454266,  0.44909205,\n",
       "          0.39442521,  0.06041693,  0.21018448,  0.80401575,  0.66175221,\n",
       "          0.34045524,  0.0540095 ,  0.4093067 ,  0.94069577,  0.52068642,\n",
       "          0.16711888,  0.99139374,  0.16291126,  0.39137441,  0.05675288,\n",
       "          0.72465785,  0.42200115,  0.8878564 ],\n",
       "        [ 0.39669913,  0.91707043,  0.53869062,  0.3171767 ,  0.64632418,\n",
       "          0.86425284,  0.4137373 ,  0.15099786,  0.24356339,  0.29624957,\n",
       "          0.00513322,  0.91739657,  0.27974285,  0.83256847,  0.64474438,\n",
       "          0.44807778,  0.01438728,  0.64462508,  0.78567128,  0.68640015,\n",
       "          0.73429309,  0.98572883,  0.28034898,  0.0718765 ,  0.98378743,\n",
       "          0.70946073,  0.83615824,  0.62019519],\n",
       "        [ 0.02095915,  0.98657444,  0.8681155 ,  0.26717665,  0.36958618,\n",
       "          0.32162931,  0.85015983,  0.98695104,  0.17359984,  0.13810198,\n",
       "          0.34634064,  0.82104071,  0.24827642,  0.22249015,  0.41229546,\n",
       "          0.4616229 ,  0.5376895 ,  0.15119325,  0.28015559,  0.83534301,\n",
       "          0.96249102,  0.64621007,  0.68206341,  0.13893125,  0.89380109,\n",
       "          0.78365465,  0.24179545,  0.74955063],\n",
       "        [ 0.82728356,  0.12412692,  0.40831414,  0.89330157,  0.60680005,\n",
       "          0.95143422,  0.75789788,  0.48385984,  0.45188914,  0.45614304,\n",
       "          0.32431646,  0.01365022,  0.61963521,  0.58376792,  0.3569588 ,\n",
       "          0.05805922,  0.95595335,  0.47707114,  0.20285935,  0.9935978 ,\n",
       "          0.1173009 ,  0.67226646,  0.00166974,  0.56437979,  0.9413098 ,\n",
       "          0.09772338,  0.17454207,  0.42146015],\n",
       "        [ 0.67063035,  0.43939051,  0.37182612,  0.46804008,  0.07847834,\n",
       "          0.79576381,  0.58708162,  0.71753978,  0.74369378,  0.25261982,\n",
       "          0.61038781,  0.45084084,  0.30514893,  0.15980409,  0.20114483,\n",
       "          0.49844267,  0.03434543,  0.78242366,  0.5724915 ,  0.98847612,\n",
       "          0.71775803,  0.55936581,  0.45263101,  0.19161046,  0.69216462,\n",
       "          0.89467264,  0.94455675,  0.45119357],\n",
       "        [ 0.05631033,  0.15575201,  0.16375361,  0.29286794,  0.95791924,\n",
       "          0.5399785 ,  0.02997807,  0.03848085,  0.99584409,  0.12258884,\n",
       "          0.88566634,  0.95135659,  0.18961495,  0.20707629,  0.38869835,\n",
       "          0.07802299,  0.28303862,  0.71607632,  0.82483596,  0.5740885 ,\n",
       "          0.05602112,  0.46288235,  0.25813586,  0.59619276,  0.87743404,\n",
       "          0.71175844,  0.28031036,  0.78918574],\n",
       "        [ 0.35448688,  0.6013142 ,  0.54176169,  0.41455861,  0.16718013,\n",
       "          0.4648867 ,  0.26825749,  0.60809674,  0.0718754 ,  0.92664362,\n",
       "          0.27537912,  0.42186144,  0.70263556,  0.20678429,  0.49706361,\n",
       "          0.80834614,  0.96680936,  0.53244663,  0.44812094,  0.38888782,\n",
       "          0.99900694,  0.37209713,  0.91768275,  0.87643362,  0.09923545,\n",
       "          0.54238953,  0.59481193,  0.97905118],\n",
       "        [ 0.48877621,  0.36482607,  0.85713667,  0.79607618,  0.55431521,\n",
       "          0.58319693,  0.93298771,  0.04935521,  0.32145401,  0.91773809,\n",
       "          0.99147442,  0.75119262,  0.38730403,  0.19942196,  0.10108   ,\n",
       "          0.61303568,  0.1787503 ,  0.0376619 ,  0.38601689,  0.83224879,\n",
       "          0.43331408,  0.16297053,  0.55379989,  0.71979709,  0.39664568,\n",
       "          0.77447218,  0.23965304,  0.8203535 ],\n",
       "        [ 0.92573203,  0.75431883,  0.80009139,  0.0540784 ,  0.96929488,\n",
       "          0.07875726,  0.14657183,  0.41202721,  0.95790035,  0.68729859,\n",
       "          0.11541923,  0.24957654,  0.33664095,  0.21922683,  0.76286319,\n",
       "          0.22474221,  0.16099841,  0.23594959,  0.77215293,  0.12649774,\n",
       "          0.06372745,  0.30245028,  0.79321488,  0.1600829 ,  0.72474042,\n",
       "          0.66651527,  0.13163257,  0.10941113],\n",
       "        [ 0.55683809,  0.57394823,  0.59329316,  0.54758958,  0.60160341,\n",
       "          0.3885693 ,  0.29989296,  0.82028812,  0.82245288,  0.79182334,\n",
       "          0.09462395,  0.19682758,  0.75882271,  0.05275931,  0.05414844,\n",
       "          0.25131928,  0.9728232 ,  0.20293266,  0.45450839,  0.46322433,\n",
       "          0.9514934 ,  0.81960315,  0.07180133,  0.23755149,  0.62941409,\n",
       "          0.90837344,  0.89168747,  0.5849807 ],\n",
       "        [ 0.5304225 ,  0.84709254,  0.61298633,  0.92679735,  0.90897025,\n",
       "          0.68481058,  0.71874989,  0.93897622,  0.64501013,  0.85305157,\n",
       "          0.54404531,  0.54688836,  0.77575482,  0.61273525,  0.21891834,\n",
       "          0.31964247,  0.51427147,  0.96222518,  0.18273298,  0.23413923,\n",
       "          0.19640811,  0.55946863,  0.94249441,  0.30668088,  0.14019864,\n",
       "          0.19202624,  0.96603391,  0.55576157]]])"
      ]
     },
     "execution_count": 19,
     "metadata": {},
     "output_type": "execute_result"
    }
   ],
   "source": [
    "x[0]"
   ]
  },
  {
   "cell_type": "code",
   "execution_count": 20,
   "metadata": {},
   "outputs": [
    {
     "data": {
      "text/plain": [
       "array([[ 0.33370773,  0.76756609,  0.33969417,  0.23436595,  0.78006658,\n",
       "         0.99813066,  0.67449314,  0.37860195,  0.79954408,  0.68275698,\n",
       "         0.1455472 ,  0.44414407,  0.79977353,  0.24531678,  0.59496693,\n",
       "         0.30173256,  0.98067738,  0.74756121,  0.67180914,  0.40791656,\n",
       "         0.60255732,  0.01082172,  0.70029415,  0.60546074,  0.4798865 ,\n",
       "         0.73659257,  0.36921871,  0.54398609],\n",
       "       [ 0.43118964,  0.9481953 ,  0.7746914 ,  0.43460881,  0.07215305,\n",
       "         0.92588695,  0.9684412 ,  0.36151926,  0.10414962,  0.30018214,\n",
       "         0.05888476,  0.27867765,  0.03408596,  0.27669849,  0.15322384,\n",
       "         0.5660222 ,  0.62019472,  0.08938537,  0.84896275,  0.24433612,\n",
       "         0.89402677,  0.61384076,  0.20643407,  0.27745094,  0.92683674,\n",
       "         0.94803578,  0.10099133,  0.80654333],\n",
       "       [ 0.49605719,  0.37841666,  0.41795542,  0.93110163,  0.97264918,\n",
       "         0.8928125 ,  0.87242117,  0.16970917,  0.49695602,  0.06180628,\n",
       "         0.86661885,  0.09143967,  0.71235041,  0.25291204,  0.83642089,\n",
       "         0.17028783,  0.52926025,  0.6134753 ,  0.91793895,  0.9183791 ,\n",
       "         0.84412453,  0.18522284,  0.01432955,  0.53063721,  0.66137154,\n",
       "         0.94461192,  0.55969745,  0.18498088],\n",
       "       [ 0.15365506,  0.83193317,  0.82761065,  0.32635649,  0.70987923,\n",
       "         0.49621277,  0.15893035,  0.26204518,  0.90628318,  0.60746522,\n",
       "         0.77484207,  0.0487634 ,  0.1239768 ,  0.59505762,  0.56406713,\n",
       "         0.01533963,  0.37738882,  0.58096212,  0.96789767,  0.80770706,\n",
       "         0.11142606,  0.59973194,  0.90407825,  0.58787632,  0.44662224,\n",
       "         0.11944793,  0.79541207,  0.04870279],\n",
       "       [ 0.12194072,  0.8544865 ,  0.23981798,  0.26312416,  0.58481706,\n",
       "         0.84222726,  0.79462066,  0.10838427,  0.06021471,  0.95639373,\n",
       "         0.64871201,  0.00825909,  0.23936228,  0.71054029,  0.35571898,\n",
       "         0.55200352,  0.26405011,  0.27227545,  0.14193433,  0.75628438,\n",
       "         0.79617095,  0.88564696,  0.09870238,  0.32824641,  0.046079  ,\n",
       "         0.60183326,  0.24804339,  0.48187127],\n",
       "       [ 0.01468941,  0.03932896,  0.80832298,  0.07817624,  0.90901726,\n",
       "         0.76176832,  0.15363027,  0.38811238,  0.27098085,  0.81881502,\n",
       "         0.26444473,  0.48870624,  0.16671713,  0.13780462,  0.44321664,\n",
       "         0.96077411,  0.17126468,  0.30619341,  0.50922411,  0.99512781,\n",
       "         0.07585379,  0.44599556,  0.32121373,  0.97954327,  0.84076378,\n",
       "         0.78627599,  0.167461  ,  0.60845042],\n",
       "       [ 0.77772617,  0.53778107,  0.97438384,  0.73656005,  0.36508844,\n",
       "         0.48227495,  0.75781367,  0.22759918,  0.33164943,  0.02216221,\n",
       "         0.42568287,  0.67579757,  0.09411441,  0.28706545,  0.99923096,\n",
       "         0.1893089 ,  0.70306932,  0.35930406,  0.69735716,  0.91182808,\n",
       "         0.50625718,  0.91724243,  0.17856452,  0.40422622,  0.2059692 ,\n",
       "         0.34231917,  0.03124998,  0.80820435],\n",
       "       [ 0.41562205,  0.62238212,  0.66856575,  0.17309511,  0.8090547 ,\n",
       "         0.7492165 ,  0.28840748,  0.09887886,  0.27907698,  0.94628752,\n",
       "         0.4817883 ,  0.09712113,  0.76796052,  0.88035986,  0.54225803,\n",
       "         0.61894576,  0.73800209,  0.63309404,  0.32511468,  0.04485075,\n",
       "         0.71064513,  0.56501187,  0.07876953,  0.50322342,  0.34736351,\n",
       "         0.77368496,  0.3043366 ,  0.68819179],\n",
       "       [ 0.95665487,  0.77119789,  0.56569737,  0.32326016,  0.06323378,\n",
       "         0.00829981,  0.52431155,  0.3393427 ,  0.95191631,  0.23384426,\n",
       "         0.4545093 ,  0.37408303,  0.3228908 ,  0.50746933,  0.00831301,\n",
       "         0.40830755,  0.08814943,  0.51925762,  0.66818813,  0.48552023,\n",
       "         0.90487992,  0.64902293,  0.3284294 ,  0.88107626,  0.12288582,\n",
       "         0.34598158,  0.31739006,  0.55068207],\n",
       "       [ 0.77101492,  0.51138425,  0.66143864,  0.87942801,  0.61640806,\n",
       "         0.68475808,  0.10724028,  0.28268851,  0.18510482,  0.10528325,\n",
       "         0.9643827 ,  0.70397574,  0.24497008,  0.01948395,  0.9076906 ,\n",
       "         0.53310258,  0.16749799,  0.69864676,  0.0994438 ,  0.21018921,\n",
       "         0.45145479,  0.06040588,  0.93125647,  0.82096093,  0.53129741,\n",
       "         0.62553587,  0.09047651,  0.14911009],\n",
       "       [ 0.83281301,  0.62529148,  0.1294425 ,  0.65065595,  0.25326542,\n",
       "         0.36583129,  0.46822647,  0.04009567,  0.8163647 ,  0.74330072,\n",
       "         0.23381714,  0.20815072,  0.27157955,  0.15835527,  0.50051165,\n",
       "         0.65294363,  0.41759008,  0.69921346,  0.34175708,  0.282973  ,\n",
       "         0.55468882,  0.20699683,  0.51919751,  0.51202359,  0.75023466,\n",
       "         0.09502746,  0.76041086,  0.98771018],\n",
       "       [ 0.76469161,  0.99260077,  0.80747814,  0.88672744,  0.40018982,\n",
       "         0.81309769,  0.62274749,  0.48854913,  0.22630236,  0.13582825,\n",
       "         0.30738682,  0.73146714,  0.10639895,  0.43188388,  0.67539633,\n",
       "         0.84863194,  0.57015988,  0.93579074,  0.96842314,  0.77943098,\n",
       "         0.79786237,  0.50248329,  0.80124104,  0.06529256,  0.41230747,\n",
       "         0.71442742,  0.44392417,  0.58660541],\n",
       "       [ 0.20137735,  0.74007702,  0.94102579,  0.33468897,  0.95753243,\n",
       "         0.96397339,  0.32937401,  0.280766  ,  0.7362088 ,  0.66709858,\n",
       "         0.17635485,  0.26110343,  0.27222023,  0.13758612,  0.01781693,\n",
       "         0.48313009,  0.76405037,  0.57162664,  0.78798446,  0.83775065,\n",
       "         0.19153481,  0.9009507 ,  0.49100715,  0.9452872 ,  0.82859894,\n",
       "         0.56390744,  0.41224795,  0.9806607 ],\n",
       "       [ 0.35766528,  0.72494476,  0.30325004,  0.01379943,  0.20758906,\n",
       "         0.86012364,  0.10296278,  0.34444922,  0.64607225,  0.76353451,\n",
       "         0.70392228,  0.13137436,  0.74647404,  0.04997175,  0.21886482,\n",
       "         0.76166384,  0.44495191,  0.33936862,  0.27153563,  0.72233674,\n",
       "         0.0827033 ,  0.05527391,  0.26012544,  0.86400628,  0.60482561,\n",
       "         0.45727598,  0.39992539,  0.36398242],\n",
       "       [ 0.74005626,  0.67737009,  0.5602357 ,  0.24050209,  0.23853859,\n",
       "         0.81165143,  0.9617289 ,  0.0026772 ,  0.66442972,  0.02274051,\n",
       "         0.75567523,  0.56967977,  0.69911978,  0.30136375,  0.2687502 ,\n",
       "         0.30343343,  0.51553744,  0.30443479,  0.62680632,  0.11683473,\n",
       "         0.86755202,  0.77686823,  0.78653702,  0.79205031,  0.96563046,\n",
       "         0.0599693 ,  0.16932385,  0.38875641],\n",
       "       [ 0.09448821,  0.20912204,  0.84278806,  0.9620945 ,  0.32276582,\n",
       "         0.55619306,  0.51230634,  0.47986375,  0.46801234,  0.48707122,\n",
       "         0.46483856,  0.56559807,  0.9092058 ,  0.58812922,  0.55774687,\n",
       "         0.2546505 ,  0.87441863,  0.26370588,  0.53505499,  0.31632415,\n",
       "         0.16668752,  0.83377377,  0.96289822,  0.8215008 ,  0.63397526,\n",
       "         0.79268645,  0.27994991,  0.65724722],\n",
       "       [ 0.2856064 ,  0.76874301,  0.65719733,  0.65355545,  0.70123392,\n",
       "         0.24618143,  0.90030954,  0.56972086,  0.12219223,  0.02092444,\n",
       "         0.11116015,  0.85668972,  0.62698003,  0.32503504,  0.90274776,\n",
       "         0.03725695,  0.0373204 ,  0.64485467,  0.29185543,  0.93045274,\n",
       "         0.54454402,  0.01924348,  0.34204704,  0.20597129,  0.78042789,\n",
       "         0.39303736,  0.14205074,  0.05701472],\n",
       "       [ 0.9367151 ,  0.12103071,  0.20080918,  0.29999932,  0.86339192,\n",
       "         0.07123928,  0.64454376,  0.7319752 ,  0.44454266,  0.44909205,\n",
       "         0.39442521,  0.06041693,  0.21018448,  0.80401575,  0.66175221,\n",
       "         0.34045524,  0.0540095 ,  0.4093067 ,  0.94069577,  0.52068642,\n",
       "         0.16711888,  0.99139374,  0.16291126,  0.39137441,  0.05675288,\n",
       "         0.72465785,  0.42200115,  0.8878564 ],\n",
       "       [ 0.39669913,  0.91707043,  0.53869062,  0.3171767 ,  0.64632418,\n",
       "         0.86425284,  0.4137373 ,  0.15099786,  0.24356339,  0.29624957,\n",
       "         0.00513322,  0.91739657,  0.27974285,  0.83256847,  0.64474438,\n",
       "         0.44807778,  0.01438728,  0.64462508,  0.78567128,  0.68640015,\n",
       "         0.73429309,  0.98572883,  0.28034898,  0.0718765 ,  0.98378743,\n",
       "         0.70946073,  0.83615824,  0.62019519],\n",
       "       [ 0.02095915,  0.98657444,  0.8681155 ,  0.26717665,  0.36958618,\n",
       "         0.32162931,  0.85015983,  0.98695104,  0.17359984,  0.13810198,\n",
       "         0.34634064,  0.82104071,  0.24827642,  0.22249015,  0.41229546,\n",
       "         0.4616229 ,  0.5376895 ,  0.15119325,  0.28015559,  0.83534301,\n",
       "         0.96249102,  0.64621007,  0.68206341,  0.13893125,  0.89380109,\n",
       "         0.78365465,  0.24179545,  0.74955063],\n",
       "       [ 0.82728356,  0.12412692,  0.40831414,  0.89330157,  0.60680005,\n",
       "         0.95143422,  0.75789788,  0.48385984,  0.45188914,  0.45614304,\n",
       "         0.32431646,  0.01365022,  0.61963521,  0.58376792,  0.3569588 ,\n",
       "         0.05805922,  0.95595335,  0.47707114,  0.20285935,  0.9935978 ,\n",
       "         0.1173009 ,  0.67226646,  0.00166974,  0.56437979,  0.9413098 ,\n",
       "         0.09772338,  0.17454207,  0.42146015],\n",
       "       [ 0.67063035,  0.43939051,  0.37182612,  0.46804008,  0.07847834,\n",
       "         0.79576381,  0.58708162,  0.71753978,  0.74369378,  0.25261982,\n",
       "         0.61038781,  0.45084084,  0.30514893,  0.15980409,  0.20114483,\n",
       "         0.49844267,  0.03434543,  0.78242366,  0.5724915 ,  0.98847612,\n",
       "         0.71775803,  0.55936581,  0.45263101,  0.19161046,  0.69216462,\n",
       "         0.89467264,  0.94455675,  0.45119357],\n",
       "       [ 0.05631033,  0.15575201,  0.16375361,  0.29286794,  0.95791924,\n",
       "         0.5399785 ,  0.02997807,  0.03848085,  0.99584409,  0.12258884,\n",
       "         0.88566634,  0.95135659,  0.18961495,  0.20707629,  0.38869835,\n",
       "         0.07802299,  0.28303862,  0.71607632,  0.82483596,  0.5740885 ,\n",
       "         0.05602112,  0.46288235,  0.25813586,  0.59619276,  0.87743404,\n",
       "         0.71175844,  0.28031036,  0.78918574],\n",
       "       [ 0.35448688,  0.6013142 ,  0.54176169,  0.41455861,  0.16718013,\n",
       "         0.4648867 ,  0.26825749,  0.60809674,  0.0718754 ,  0.92664362,\n",
       "         0.27537912,  0.42186144,  0.70263556,  0.20678429,  0.49706361,\n",
       "         0.80834614,  0.96680936,  0.53244663,  0.44812094,  0.38888782,\n",
       "         0.99900694,  0.37209713,  0.91768275,  0.87643362,  0.09923545,\n",
       "         0.54238953,  0.59481193,  0.97905118],\n",
       "       [ 0.48877621,  0.36482607,  0.85713667,  0.79607618,  0.55431521,\n",
       "         0.58319693,  0.93298771,  0.04935521,  0.32145401,  0.91773809,\n",
       "         0.99147442,  0.75119262,  0.38730403,  0.19942196,  0.10108   ,\n",
       "         0.61303568,  0.1787503 ,  0.0376619 ,  0.38601689,  0.83224879,\n",
       "         0.43331408,  0.16297053,  0.55379989,  0.71979709,  0.39664568,\n",
       "         0.77447218,  0.23965304,  0.8203535 ],\n",
       "       [ 0.92573203,  0.75431883,  0.80009139,  0.0540784 ,  0.96929488,\n",
       "         0.07875726,  0.14657183,  0.41202721,  0.95790035,  0.68729859,\n",
       "         0.11541923,  0.24957654,  0.33664095,  0.21922683,  0.76286319,\n",
       "         0.22474221,  0.16099841,  0.23594959,  0.77215293,  0.12649774,\n",
       "         0.06372745,  0.30245028,  0.79321488,  0.1600829 ,  0.72474042,\n",
       "         0.66651527,  0.13163257,  0.10941113],\n",
       "       [ 0.55683809,  0.57394823,  0.59329316,  0.54758958,  0.60160341,\n",
       "         0.3885693 ,  0.29989296,  0.82028812,  0.82245288,  0.79182334,\n",
       "         0.09462395,  0.19682758,  0.75882271,  0.05275931,  0.05414844,\n",
       "         0.25131928,  0.9728232 ,  0.20293266,  0.45450839,  0.46322433,\n",
       "         0.9514934 ,  0.81960315,  0.07180133,  0.23755149,  0.62941409,\n",
       "         0.90837344,  0.89168747,  0.5849807 ],\n",
       "       [ 0.5304225 ,  0.84709254,  0.61298633,  0.92679735,  0.90897025,\n",
       "         0.68481058,  0.71874989,  0.93897622,  0.64501013,  0.85305157,\n",
       "         0.54404531,  0.54688836,  0.77575482,  0.61273525,  0.21891834,\n",
       "         0.31964247,  0.51427147,  0.96222518,  0.18273298,  0.23413923,\n",
       "         0.19640811,  0.55946863,  0.94249441,  0.30668088,  0.14019864,\n",
       "         0.19202624,  0.96603391,  0.55576157]])"
      ]
     },
     "execution_count": 20,
     "metadata": {},
     "output_type": "execute_result"
    }
   ],
   "source": [
    "x[0, 0]"
   ]
  },
  {
   "cell_type": "code",
   "execution_count": 21,
   "metadata": {},
   "outputs": [
    {
     "data": {
      "text/plain": [
       "array([ 0.33370773,  0.76756609,  0.33969417,  0.23436595,  0.78006658,\n",
       "        0.99813066,  0.67449314,  0.37860195,  0.79954408,  0.68275698,\n",
       "        0.1455472 ,  0.44414407,  0.79977353,  0.24531678,  0.59496693,\n",
       "        0.30173256,  0.98067738,  0.74756121,  0.67180914,  0.40791656,\n",
       "        0.60255732,  0.01082172,  0.70029415,  0.60546074,  0.4798865 ,\n",
       "        0.73659257,  0.36921871,  0.54398609])"
      ]
     },
     "execution_count": 21,
     "metadata": {},
     "output_type": "execute_result"
    }
   ],
   "source": [
    "x[0, 0, 0]"
   ]
  },
  {
   "cell_type": "code",
   "execution_count": 22,
   "metadata": {},
   "outputs": [
    {
     "name": "stdout",
     "output_type": "stream",
     "text": [
      "(9, 75)\n",
      "(90, 75)\n"
     ]
    }
   ],
   "source": [
    "import sys, os\n",
    "sys.path.append(os.pardir)\n",
    "from common.util import im2col\n",
    "\n",
    "x1 = np.random.rand(1, 3, 7, 7)\n",
    "col1 = im2col(x1, 5, 5, stride=1, pad=0)\n",
    "print(col1.shape)\n",
    "\n",
    "x2 = np.random.rand(10, 3, 7, 7 )\n",
    "col2 = im2col(x2, 5, 5, stride=1, pad=0)\n",
    "print(col2.shape)"
   ]
  },
  {
   "cell_type": "code",
   "execution_count": 23,
   "metadata": {
    "collapsed": true
   },
   "outputs": [],
   "source": [
    "class Convolution:\n",
    "    def __init__(self, W, b, stride=1, pad=0):\n",
    "        self.W = W\n",
    "        self.b = b\n",
    "        self.stride = stride\n",
    "        self.pat = pad\n",
    "        \n",
    "        def forward(self, x):\n",
    "            FN, C, FH, FW = self.W.shape\n",
    "            N, C, H, W = x.shape\n",
    "            out_h = int(1 + (H + 2*self.pad - FH) / self.stride)\n",
    "            out_w = int(1 + (W + 2*self.pad - FW) / self.stride)\n",
    "            \n",
    "            col = im2col(x, FH, FW, self.stride, self.pad)\n",
    "            col_W = self.W.reshape(FN, -1).T\n",
    "            out = np.dot(col, col_W) * self.b\n",
    "            \n",
    "            out = out.reshape(N, out_h, out_w, -1).transpose(0, 3, 1, 2)\n",
    "            \n",
    "            return out"
   ]
  },
  {
   "cell_type": "code",
   "execution_count": 24,
   "metadata": {
    "collapsed": true
   },
   "outputs": [],
   "source": [
    "class Pooling:\n",
    "    def __init__(self, pool_h, pool_w, stride=1, pad=0):\n",
    "        self.pool_h = pool_h\n",
    "        self.pool_w = pool_w\n",
    "        self.stride = stride\n",
    "        self.pad = pad\n",
    "        \n",
    "    def forward(self, x):\n",
    "        N ,C, H, W = x.shape\n",
    "        out_h = int(1 + (H - self.pool_h) / self.stride)\n",
    "        out_w = int(1 + (W - self.pool_w) / self.stride)\n",
    "        \n",
    "        col = im2col(x, self.pool_h, self.pool_w, self.stride, self.pad)\n",
    "        col = col.reshape(-1, self.pool_h*self.pool_w)\n",
    "        \n",
    "        out = np.max(col, axis=1)\n",
    "        \n",
    "        out = out.reshape(N, out_h, out_w, C).transpose(0, 3, 1, 2)\n",
    "        \n",
    "        return out"
   ]
  },
  {
   "cell_type": "code",
   "execution_count": 25,
   "metadata": {},
   "outputs": [
    {
     "ename": "NameError",
     "evalue": "name 'SoftmaxWithLoss' is not defined",
     "output_type": "error",
     "traceback": [
      "\u001b[0;31m---------------------------------------------------------------------------\u001b[0m",
      "\u001b[0;31mNameError\u001b[0m                                 Traceback (most recent call last)",
      "\u001b[0;32m<ipython-input-25-7a2ee71d546e>\u001b[0m in \u001b[0;36m<module>\u001b[0;34m()\u001b[0m\n\u001b[0;32m----> 1\u001b[0;31m \u001b[0;32mclass\u001b[0m \u001b[0mSimpleConvNet\u001b[0m\u001b[0;34m:\u001b[0m\u001b[0;34m\u001b[0m\u001b[0m\n\u001b[0m\u001b[1;32m      2\u001b[0m     def __init__(self, input_dim=(1,28, 28), conv_params={'filter_num':30, 'filter_size':5, 'pad':0, 'stride':1}, \n\u001b[1;32m      3\u001b[0m                 hidden_size=100, output_size=10, weight_init_std=0.01):\n\u001b[1;32m      4\u001b[0m         \u001b[0mfilter_num\u001b[0m \u001b[0;34m=\u001b[0m \u001b[0mconv_param\u001b[0m\u001b[0;34m[\u001b[0m\u001b[0;34m'filter_num'\u001b[0m\u001b[0;34m]\u001b[0m\u001b[0;34m\u001b[0m\u001b[0m\n\u001b[1;32m      5\u001b[0m         \u001b[0mfilter_size\u001b[0m \u001b[0;34m=\u001b[0m \u001b[0mconv_param\u001b[0m\u001b[0;34m[\u001b[0m\u001b[0;34m'filter_size'\u001b[0m\u001b[0;34m]\u001b[0m\u001b[0;34m\u001b[0m\u001b[0m\n",
      "\u001b[0;32m<ipython-input-25-7a2ee71d546e>\u001b[0m in \u001b[0;36mSimpleConvNet\u001b[0;34m()\u001b[0m\n\u001b[1;32m     26\u001b[0m         \u001b[0mself\u001b[0m\u001b[0;34m.\u001b[0m\u001b[0mlayers\u001b[0m\u001b[0;34m[\u001b[0m\u001b[0;34m'Affine2'\u001b[0m\u001b[0;34m]\u001b[0m \u001b[0;34m=\u001b[0m \u001b[0mAffine\u001b[0m\u001b[0;34m(\u001b[0m\u001b[0mself\u001b[0m\u001b[0;34m.\u001b[0m\u001b[0mparams\u001b[0m\u001b[0;34m[\u001b[0m\u001b[0;34m'W3'\u001b[0m\u001b[0;34m]\u001b[0m\u001b[0;34m,\u001b[0m \u001b[0mself\u001b[0m\u001b[0;34m.\u001b[0m\u001b[0mparams\u001b[0m\u001b[0;34m[\u001b[0m\u001b[0;34m'b3'\u001b[0m\u001b[0;34m]\u001b[0m\u001b[0;34m)\u001b[0m\u001b[0;34m\u001b[0m\u001b[0m\n\u001b[1;32m     27\u001b[0m \u001b[0;34m\u001b[0m\u001b[0m\n\u001b[0;32m---> 28\u001b[0;31m     \u001b[0mself\u001b[0m\u001b[0;34m.\u001b[0m\u001b[0mlast_layer\u001b[0m \u001b[0;34m=\u001b[0m \u001b[0mSoftmaxWithLoss\u001b[0m\u001b[0;34m(\u001b[0m\u001b[0;34m)\u001b[0m\u001b[0;34m\u001b[0m\u001b[0m\n\u001b[0m\u001b[1;32m     29\u001b[0m \u001b[0;34m\u001b[0m\u001b[0m\n\u001b[1;32m     30\u001b[0m     \u001b[0;32mdef\u001b[0m \u001b[0mpredict\u001b[0m\u001b[0;34m(\u001b[0m\u001b[0mself\u001b[0m\u001b[0;34m,\u001b[0m \u001b[0mx\u001b[0m\u001b[0;34m)\u001b[0m\u001b[0;34m:\u001b[0m\u001b[0;34m\u001b[0m\u001b[0m\n",
      "\u001b[0;31mNameError\u001b[0m: name 'SoftmaxWithLoss' is not defined"
     ]
    }
   ],
   "source": [
    "class SimpleConvNet:\n",
    "    def __init__(self, input_dim=(1,28, 28), conv_params={'filter_num':30, 'filter_size':5, 'pad':0, 'stride':1}, \n",
    "                hidden_size=100, output_size=10, weight_init_std=0.01):\n",
    "        filter_num = conv_param['filter_num']\n",
    "        filter_size = conv_param['filter_size']\n",
    "        filter_pad = conv_param['pad']\n",
    "        filter_stride = conv_param['stride']\n",
    "        input_size = input_dim[1]\n",
    "        conv_output_size = (input_size - filter_size + 2*filter_pad) / filter_stride + 1\n",
    "        pool_output_size = int(filter_num * (conv_output_size/2) * (conv_output_size/2))\n",
    "        \n",
    "        self.params = {}\n",
    "        self.params['W1'] = weight_init_std * np.random.randn(filter_num, input_dim[0], filter_size, filter_size)\n",
    "        self.params['b1'] = np.zeros(filter_num)\n",
    "        self.params['W2'] = weight_init_std * np.random.randn(pool_output_size, hidden_size)\n",
    "        self.params['b2'] = np.zeros(hidden_size)\n",
    "        self.params['W3'] = weight_init_std * np.random.randn(hidden_size, output_size)\n",
    "        self.params['b3'] = np.zeros(output_size)\n",
    "        \n",
    "        self.layers = OrderedDict()\n",
    "        self.layers['conv1'] = Convolution(self.params['W1'], self.params['b1'], conv_params['stride'], conv_params['pad'])\n",
    "        self.layers['Relu1'] = Relu()\n",
    "        self.layers['Pool1'] = Pooling(pool_h=2, pool_w=2, stride=2)\n",
    "        self.layers['Affine1'] = Affine(self.params['W2'], self.params['b2'])\n",
    "        self.layers['Relu2'] = Relu()\n",
    "        self.layers['Affine2'] = Affine(self.params['W3'], self.params['b3'])\n",
    "        \n",
    "    self.last_layer = SoftmaxWithLoss()\n",
    "    \n",
    "    def predict(self, x):\n",
    "        for layer in self.layers.values():\n",
    "            x = layer.forward(x)\n",
    "        return x\n",
    "    \n",
    "    def loss(self, x, t):\n",
    "        y = self.predict(x)\n",
    "        return self.lastLayer.forward(y, t)\n",
    "    \n",
    "    def gradient(self, x, t):\n",
    "        self.loss(x,t)\n",
    "        \n",
    "        dout =1\n",
    "        dout = self.lastLayer.backward(dout)\n",
    "        \n",
    "        layers = list(self.layers.values())\n",
    "        layers.reverse()\n",
    "        for layer in layers:\n",
    "            dout = layer.backward(dout)\n",
    "            \n",
    "        grads = {}\n",
    "        grads['W1'] = self.layers['Conv1'].dW\n",
    "        grads['b1'] = self.layers['Conv1'].db\n",
    "        grads['W2'] = self.layers['Affine1'].dW\n",
    "        grads['b2'] = self.layers['Affine1'].db\n",
    "        grads['W3'] = self.layers['Affine2'].dW\n",
    "        grads['b3'] = self.layers['Affine2'].db\n",
    "        \n",
    "        return grads"
   ]
  },
  {
   "cell_type": "code",
   "execution_count": 26,
   "metadata": {},
   "outputs": [
    {
     "ename": "ModuleNotFoundError",
     "evalue": "No module named 'simple_convnet'",
     "output_type": "error",
     "traceback": [
      "\u001b[0;31m---------------------------------------------------------------------------\u001b[0m",
      "\u001b[0;31mModuleNotFoundError\u001b[0m                       Traceback (most recent call last)",
      "\u001b[0;32m<ipython-input-26-0e0f10870eac>\u001b[0m in \u001b[0;36m<module>\u001b[0;34m()\u001b[0m\n\u001b[1;32m      5\u001b[0m \u001b[0;32mimport\u001b[0m \u001b[0mmatplotlib\u001b[0m\u001b[0;34m.\u001b[0m\u001b[0mpyplot\u001b[0m \u001b[0;32mas\u001b[0m \u001b[0mplt\u001b[0m\u001b[0;34m\u001b[0m\u001b[0m\n\u001b[1;32m      6\u001b[0m \u001b[0;32mfrom\u001b[0m \u001b[0mdataset\u001b[0m\u001b[0;34m.\u001b[0m\u001b[0mmnist\u001b[0m \u001b[0;32mimport\u001b[0m \u001b[0mload_mnist\u001b[0m\u001b[0;34m\u001b[0m\u001b[0m\n\u001b[0;32m----> 7\u001b[0;31m \u001b[0;32mfrom\u001b[0m \u001b[0msimple_convnet\u001b[0m \u001b[0;32mimport\u001b[0m \u001b[0mSimpleConvNet\u001b[0m\u001b[0;34m\u001b[0m\u001b[0m\n\u001b[0m\u001b[1;32m      8\u001b[0m \u001b[0;32mfrom\u001b[0m \u001b[0mcommon\u001b[0m\u001b[0;34m.\u001b[0m\u001b[0mtrainer\u001b[0m \u001b[0;32mimport\u001b[0m \u001b[0mTrainer\u001b[0m\u001b[0;34m\u001b[0m\u001b[0m\n\u001b[1;32m      9\u001b[0m \u001b[0;34m\u001b[0m\u001b[0m\n",
      "\u001b[0;31mModuleNotFoundError\u001b[0m: No module named 'simple_convnet'"
     ]
    }
   ],
   "source": [
    "# coding: utf-8\n",
    "import sys, os\n",
    "sys.path.append(os.pardir)  # 親ディレクトリのファイルをインポートするための設定\n",
    "import numpy as np\n",
    "import matplotlib.pyplot as plt\n",
    "from dataset.mnist import load_mnist\n",
    "from simple_convnet import SimpleConvNet\n",
    "from common.trainer import Trainer\n",
    "\n",
    "# データの読み込み\n",
    "(x_train, t_train), (x_test, t_test) = load_mnist(flatten=False)\n",
    "\n",
    "# 処理に時間のかかる場合はデータを削減 \n",
    "#x_train, t_train = x_train[:5000], t_train[:5000]\n",
    "#x_test, t_test = x_test[:1000], t_test[:1000]\n",
    "\n",
    "max_epochs = 20\n",
    "\n",
    "network = SimpleConvNet(input_dim=(1,28,28), \n",
    "                        conv_param = {'filter_num': 30, 'filter_size': 5, 'pad': 0, 'stride': 1},\n",
    "                        hidden_size=100, output_size=10, weight_init_std=0.01)\n",
    "                        \n",
    "trainer = Trainer(network, x_train, t_train, x_test, t_test,\n",
    "                  epochs=max_epochs, mini_batch_size=100,\n",
    "                  optimizer='Adam', optimizer_param={'lr': 0.001},\n",
    "                  evaluate_sample_num_per_epoch=1000)\n",
    "trainer.train()\n",
    "\n",
    "# パラメータの保存\n",
    "network.save_params(\"params.pkl\")\n",
    "print(\"Saved Network Parameters!\")\n",
    "\n",
    "# グラフの描画\n",
    "markers = {'train': 'o', 'test': 's'}\n",
    "x = np.arange(max_epochs)\n",
    "plt.plot(x, trainer.train_acc_list, marker='o', label='train', markevery=2)\n",
    "plt.plot(x, trainer.test_acc_list, marker='s', label='test', markevery=2)\n",
    "plt.xlabel(\"epochs\")\n",
    "plt.ylabel(\"accuracy\")\n",
    "plt.ylim(0, 1.0)\n",
    "plt.legend(loc='lower right')\n",
    "plt.show()\n"
   ]
  },
  {
   "cell_type": "code",
   "execution_count": null,
   "metadata": {
    "collapsed": true
   },
   "outputs": [],
   "source": []
  }
 ],
 "metadata": {
  "kernelspec": {
   "display_name": "Python 3",
   "language": "python",
   "name": "python3"
  },
  "language_info": {
   "codemirror_mode": {
    "name": "ipython",
    "version": 3
   },
   "file_extension": ".py",
   "mimetype": "text/x-python",
   "name": "python",
   "nbconvert_exporter": "python",
   "pygments_lexer": "ipython3",
   "version": "3.6.3"
  }
 },
 "nbformat": 4,
 "nbformat_minor": 2
}
